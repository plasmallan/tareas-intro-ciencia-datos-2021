{
 "cells": [
  {
   "cell_type": "markdown",
   "metadata": {},
   "source": [
    "# Tarea 2\n",
    "\n",
    "- Cargue los datos de meteorite_landins.csv de la sesión 3\n",
    "- Cree un nuevo dataframe llamado meteoritos_h4. En este dataframe, utilizando la función str. seleccione todos los meteoritos solamente de categoría H4\n",
    "- Cree otro dataframe llamado meteoritos_h5. En este dataframe, utilizando la función str. seleccione todos los meteoritos de solamente categoría H5\n",
    "- Limpie los datos de ambos dataframes, eliminando las entradas donde las masas sean cero, null, NaN, etc.\n",
    "- Utilizando masks y selecciones, cuente cuántos meteoritos H4 cayeron entre 1960 y 1990.\n",
    "- Utilizando masks y selecciones, cuente cuántos meteoritos H5 cayeron entre 1960 y 1990.\n",
    "- Concatene ambos dataframes y grafique la cantidad de meteoritos por clase y por año"
   ]
  },
  {
   "cell_type": "code",
   "execution_count": 43,
   "metadata": {},
   "outputs": [],
   "source": [
    "import pandas as pd\n",
    "import numpy as np\n",
    "import matplotlib.pyplot as plt"
   ]
  },
  {
   "cell_type": "code",
   "execution_count": 44,
   "metadata": {},
   "outputs": [],
   "source": [
    "data=pd.read_csv('../Sesión 3/meteorite-landings.csv')"
   ]
  },
  {
   "cell_type": "code",
   "execution_count": 45,
   "metadata": {},
   "outputs": [],
   "source": [
    "meteoritos_h4=data[data.recclass.str.contains('H4')]\n",
    "meteoritos_h4=meteoritos_h4[meteoritos_h4!=0]\n",
    "meteoritos_h4=meteoritos_h4[meteoritos_h4.notnull()]\n",
    "meteoritos_h4=meteoritos_h4.dropna()"
   ]
  },
  {
   "cell_type": "code",
   "execution_count": 46,
   "metadata": {},
   "outputs": [],
   "source": [
    "meteoritos_h5=data[data.recclass.str.contains('H5')]\n",
    "meteoritos_h5=meteoritos_h5[meteoritos_h5!=0]\n",
    "meteoritos_h5=meteoritos_h5[meteoritos_h5.notnull()]\n",
    "meteoritos_h5=meteoritos_h5.dropna()"
   ]
  },
  {
   "cell_type": "code",
   "execution_count": 47,
   "metadata": {},
   "outputs": [],
   "source": [
    "h4_6090=meteoritos_h4[(meteoritos_h4.year >= 1960) & (meteoritos_h4.year < 1990)]"
   ]
  },
  {
   "cell_type": "code",
   "execution_count": 48,
   "metadata": {},
   "outputs": [],
   "source": [
    "h5_6090=meteoritos_h5[(meteoritos_h5.year >= 1960) & (meteoritos_h5.year < 1990)]"
   ]
  },
  {
   "cell_type": "code",
   "execution_count": 49,
   "metadata": {},
   "outputs": [
    {
     "data": {
      "text/plain": [
       "H4       2191\n",
       "H4/5      270\n",
       "H4-6        6\n",
       "EH4         6\n",
       "H4-5        4\n",
       "H4/6        1\n",
       "H4-an       1\n",
       "Name: recclass, dtype: int64"
      ]
     },
     "execution_count": 49,
     "metadata": {},
     "output_type": "execute_result"
    }
   ],
   "source": [
    "h4_6090.recclass.value_counts()"
   ]
  },
  {
   "cell_type": "code",
   "execution_count": 53,
   "metadata": {},
   "outputs": [
    {
     "name": "stderr",
     "output_type": "stream",
     "text": [
      "C:\\Users\\Dell\\anaconda3_64\\lib\\site-packages\\pandas\\core\\indexing.py:1676: SettingWithCopyWarning: \n",
      "A value is trying to be set on a copy of a slice from a DataFrame.\n",
      "Try using .loc[row_indexer,col_indexer] = value instead\n",
      "\n",
      "See the caveats in the documentation: https://pandas.pydata.org/pandas-docs/stable/user_guide/indexing.html#returning-a-view-versus-a-copy\n",
      "  self._setitem_single_column(ilocs[0], value, pi)\n"
     ]
    }
   ],
   "source": [
    "maskh4=h4_6090['recclass'].str.contains('EH4')\n",
    "h4_6090.loc[maskh4,\"recclass\"]=h4_6090.loc[maskh4,\"recclass\"].str.replace(\"EH4\",\"H4\")"
   ]
  },
  {
   "cell_type": "code",
   "execution_count": 54,
   "metadata": {},
   "outputs": [
    {
     "data": {
      "text/plain": [
       "H4       2197\n",
       "H4/5      270\n",
       "H4-6        6\n",
       "H4-5        4\n",
       "H4/6        1\n",
       "H4-an       1\n",
       "Name: recclass, dtype: int64"
      ]
     },
     "execution_count": 54,
     "metadata": {},
     "output_type": "execute_result"
    }
   ],
   "source": [
    "h4_6090.recclass.value_counts()"
   ]
  },
  {
   "cell_type": "code",
   "execution_count": 50,
   "metadata": {},
   "outputs": [
    {
     "data": {
      "text/plain": [
       "H5      2598\n",
       "H5/6      16\n",
       "H5-6      11\n",
       "EH5        3\n",
       "Name: recclass, dtype: int64"
      ]
     },
     "execution_count": 50,
     "metadata": {},
     "output_type": "execute_result"
    }
   ],
   "source": [
    "h5_6090.recclass.value_counts()"
   ]
  },
  {
   "cell_type": "code",
   "execution_count": 55,
   "metadata": {},
   "outputs": [],
   "source": [
    "maskh5=h5_6090['recclass'].str.contains('EH5')\n",
    "h5_6090.loc[maskh5,\"recclass\"]=h5_6090.loc[maskh5,\"recclass\"].str.replace(\"EH5\",\"H5\")"
   ]
  },
  {
   "cell_type": "code",
   "execution_count": 56,
   "metadata": {},
   "outputs": [
    {
     "data": {
      "text/plain": [
       "H5      2601\n",
       "H5/6      16\n",
       "H5-6      11\n",
       "Name: recclass, dtype: int64"
      ]
     },
     "execution_count": 56,
     "metadata": {},
     "output_type": "execute_result"
    }
   ],
   "source": [
    "h5_6090.recclass.value_counts()"
   ]
  },
  {
   "cell_type": "code",
   "execution_count": 57,
   "metadata": {},
   "outputs": [],
   "source": [
    "h4h5_6090=pd.concat([h4_6090,h5_6090])"
   ]
  },
  {
   "cell_type": "code",
   "execution_count": 58,
   "metadata": {},
   "outputs": [
    {
     "data": {
      "text/html": [
       "<div>\n",
       "<style scoped>\n",
       "    .dataframe tbody tr th:only-of-type {\n",
       "        vertical-align: middle;\n",
       "    }\n",
       "\n",
       "    .dataframe tbody tr th {\n",
       "        vertical-align: top;\n",
       "    }\n",
       "\n",
       "    .dataframe thead th {\n",
       "        text-align: right;\n",
       "    }\n",
       "</style>\n",
       "<table border=\"1\" class=\"dataframe\">\n",
       "  <thead>\n",
       "    <tr style=\"text-align: right;\">\n",
       "      <th></th>\n",
       "      <th>name</th>\n",
       "      <th>id</th>\n",
       "      <th>nametype</th>\n",
       "      <th>recclass</th>\n",
       "      <th>mass</th>\n",
       "      <th>fall</th>\n",
       "      <th>year</th>\n",
       "      <th>reclat</th>\n",
       "      <th>reclong</th>\n",
       "      <th>GeoLocation</th>\n",
       "    </tr>\n",
       "  </thead>\n",
       "  <tbody>\n",
       "    <tr>\n",
       "      <th>193</th>\n",
       "      <td>Chela</td>\n",
       "      <td>5338</td>\n",
       "      <td>Valid</td>\n",
       "      <td>H4</td>\n",
       "      <td>2936.00</td>\n",
       "      <td>Fell</td>\n",
       "      <td>1988.0</td>\n",
       "      <td>-3.66667</td>\n",
       "      <td>32.50000</td>\n",
       "      <td>(-3.666670, 32.500000)</td>\n",
       "    </tr>\n",
       "    <tr>\n",
       "      <th>196</th>\n",
       "      <td>Chernyi Bor</td>\n",
       "      <td>5339</td>\n",
       "      <td>Valid</td>\n",
       "      <td>H4</td>\n",
       "      <td>6000.00</td>\n",
       "      <td>Fell</td>\n",
       "      <td>1964.0</td>\n",
       "      <td>53.70000</td>\n",
       "      <td>30.10000</td>\n",
       "      <td>(53.700000, 30.100000)</td>\n",
       "    </tr>\n",
       "    <tr>\n",
       "      <th>213</th>\n",
       "      <td>Conquista</td>\n",
       "      <td>5418</td>\n",
       "      <td>Valid</td>\n",
       "      <td>H4</td>\n",
       "      <td>20350.00</td>\n",
       "      <td>Fell</td>\n",
       "      <td>1965.0</td>\n",
       "      <td>-19.85000</td>\n",
       "      <td>-47.55000</td>\n",
       "      <td>(-19.850000, -47.550000)</td>\n",
       "    </tr>\n",
       "    <tr>\n",
       "      <th>266</th>\n",
       "      <td>Dwaleni</td>\n",
       "      <td>7755</td>\n",
       "      <td>Valid</td>\n",
       "      <td>H4-6</td>\n",
       "      <td>3230.00</td>\n",
       "      <td>Fell</td>\n",
       "      <td>1970.0</td>\n",
       "      <td>-27.20000</td>\n",
       "      <td>31.31667</td>\n",
       "      <td>(-27.200000, 31.316670)</td>\n",
       "    </tr>\n",
       "    <tr>\n",
       "      <th>356</th>\n",
       "      <td>Gursum</td>\n",
       "      <td>11465</td>\n",
       "      <td>Valid</td>\n",
       "      <td>H4/5</td>\n",
       "      <td>34650.00</td>\n",
       "      <td>Fell</td>\n",
       "      <td>1981.0</td>\n",
       "      <td>9.36667</td>\n",
       "      <td>42.41667</td>\n",
       "      <td>(9.366670, 42.416670)</td>\n",
       "    </tr>\n",
       "    <tr>\n",
       "      <th>...</th>\n",
       "      <td>...</td>\n",
       "      <td>...</td>\n",
       "      <td>...</td>\n",
       "      <td>...</td>\n",
       "      <td>...</td>\n",
       "      <td>...</td>\n",
       "      <td>...</td>\n",
       "      <td>...</td>\n",
       "      <td>...</td>\n",
       "      <td>...</td>\n",
       "    </tr>\n",
       "    <tr>\n",
       "      <th>43415</th>\n",
       "      <td>Yamato 86708</td>\n",
       "      <td>30214</td>\n",
       "      <td>Valid</td>\n",
       "      <td>H5</td>\n",
       "      <td>118.12</td>\n",
       "      <td>Found</td>\n",
       "      <td>1986.0</td>\n",
       "      <td>-71.50000</td>\n",
       "      <td>35.66667</td>\n",
       "      <td>(-71.500000, 35.666670)</td>\n",
       "    </tr>\n",
       "    <tr>\n",
       "      <th>43421</th>\n",
       "      <td>Yamato 86714</td>\n",
       "      <td>30220</td>\n",
       "      <td>Valid</td>\n",
       "      <td>H5</td>\n",
       "      <td>11.38</td>\n",
       "      <td>Found</td>\n",
       "      <td>1986.0</td>\n",
       "      <td>-71.50000</td>\n",
       "      <td>35.66667</td>\n",
       "      <td>(-71.500000, 35.666670)</td>\n",
       "    </tr>\n",
       "    <tr>\n",
       "      <th>43445</th>\n",
       "      <td>Yamato 86738</td>\n",
       "      <td>30244</td>\n",
       "      <td>Valid</td>\n",
       "      <td>H5</td>\n",
       "      <td>1.75</td>\n",
       "      <td>Found</td>\n",
       "      <td>1986.0</td>\n",
       "      <td>-71.50000</td>\n",
       "      <td>35.66667</td>\n",
       "      <td>(-71.500000, 35.666670)</td>\n",
       "    </tr>\n",
       "    <tr>\n",
       "      <th>43455</th>\n",
       "      <td>Yamato 86748</td>\n",
       "      <td>30254</td>\n",
       "      <td>Valid</td>\n",
       "      <td>H5</td>\n",
       "      <td>595.24</td>\n",
       "      <td>Found</td>\n",
       "      <td>1986.0</td>\n",
       "      <td>-71.50000</td>\n",
       "      <td>35.66667</td>\n",
       "      <td>(-71.500000, 35.666670)</td>\n",
       "    </tr>\n",
       "    <tr>\n",
       "      <th>43457</th>\n",
       "      <td>Yamato 86750</td>\n",
       "      <td>30256</td>\n",
       "      <td>Valid</td>\n",
       "      <td>H5</td>\n",
       "      <td>3.99</td>\n",
       "      <td>Found</td>\n",
       "      <td>1986.0</td>\n",
       "      <td>-71.50000</td>\n",
       "      <td>35.66667</td>\n",
       "      <td>(-71.500000, 35.666670)</td>\n",
       "    </tr>\n",
       "  </tbody>\n",
       "</table>\n",
       "<p>5107 rows × 10 columns</p>\n",
       "</div>"
      ],
      "text/plain": [
       "               name     id nametype recclass      mass   fall    year  \\\n",
       "193           Chela   5338    Valid       H4   2936.00   Fell  1988.0   \n",
       "196     Chernyi Bor   5339    Valid       H4   6000.00   Fell  1964.0   \n",
       "213       Conquista   5418    Valid       H4  20350.00   Fell  1965.0   \n",
       "266         Dwaleni   7755    Valid     H4-6   3230.00   Fell  1970.0   \n",
       "356          Gursum  11465    Valid     H4/5  34650.00   Fell  1981.0   \n",
       "...             ...    ...      ...      ...       ...    ...     ...   \n",
       "43415  Yamato 86708  30214    Valid       H5    118.12  Found  1986.0   \n",
       "43421  Yamato 86714  30220    Valid       H5     11.38  Found  1986.0   \n",
       "43445  Yamato 86738  30244    Valid       H5      1.75  Found  1986.0   \n",
       "43455  Yamato 86748  30254    Valid       H5    595.24  Found  1986.0   \n",
       "43457  Yamato 86750  30256    Valid       H5      3.99  Found  1986.0   \n",
       "\n",
       "         reclat   reclong               GeoLocation  \n",
       "193    -3.66667  32.50000    (-3.666670, 32.500000)  \n",
       "196    53.70000  30.10000    (53.700000, 30.100000)  \n",
       "213   -19.85000 -47.55000  (-19.850000, -47.550000)  \n",
       "266   -27.20000  31.31667   (-27.200000, 31.316670)  \n",
       "356     9.36667  42.41667     (9.366670, 42.416670)  \n",
       "...         ...       ...                       ...  \n",
       "43415 -71.50000  35.66667   (-71.500000, 35.666670)  \n",
       "43421 -71.50000  35.66667   (-71.500000, 35.666670)  \n",
       "43445 -71.50000  35.66667   (-71.500000, 35.666670)  \n",
       "43455 -71.50000  35.66667   (-71.500000, 35.666670)  \n",
       "43457 -71.50000  35.66667   (-71.500000, 35.666670)  \n",
       "\n",
       "[5107 rows x 10 columns]"
      ]
     },
     "execution_count": 58,
     "metadata": {},
     "output_type": "execute_result"
    }
   ],
   "source": [
    "h4h5_6090"
   ]
  },
  {
   "cell_type": "code",
   "execution_count": 61,
   "metadata": {},
   "outputs": [
    {
     "data": {
      "text/plain": [
       "<AxesSubplot:xlabel='year'>"
      ]
     },
     "execution_count": 61,
     "metadata": {},
     "output_type": "execute_result"
    },
    {
     "data": {
      "image/png": "[encoded data removed]",
      "text/plain": [
       "<Figure size 432x288 with 1 Axes>"
      ]
     },
     "metadata": {
      "needs_background": "light"
     },
     "output_type": "display_data"
    }
   ],
   "source": [
    "h4h5_6090.pivot_table(\"recclass\",index=\"year\",aggfunc=\"count\").plot(legend=None)"
   ]
  },
  {
   "cell_type": "code",
   "execution_count": 62,
   "metadata": {},
   "outputs": [
    {
     "data": {
      "text/plain": [
       "<AxesSubplot:>"
      ]
     },
     "execution_count": 62,
     "metadata": {},
     "output_type": "execute_result"
    },
    {
     "data": {
      "image/png": "[encoded data removed]",
      "text/plain": [
       "<Figure size 432x288 with 1 Axes>"
      ]
     },
     "metadata": {
      "needs_background": "light"
     },
     "output_type": "display_data"
    }
   ],
   "source": [
    "h4h5_6090.recclass.hist()"
   ]
  }
 ],
 "metadata": {
  "kernelspec": {
   "display_name": "Python 3",
   "language": "python",
   "name": "python3"
  },
  "language_info": {
   "codemirror_mode": {
    "name": "ipython",
    "version": 3
   },
   "file_extension": ".py",
   "mimetype": "text/x-python",
   "name": "python",
   "nbconvert_exporter": "python",
   "pygments_lexer": "ipython3",
   "version": "3.8.8"
  }
 },
 "nbformat": 4,
 "nbformat_minor": 4
}
